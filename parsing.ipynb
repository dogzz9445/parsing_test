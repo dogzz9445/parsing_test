{
 "cells": [
  {
   "cell_type": "code",
   "execution_count": 31,
   "id": "guilty-television",
   "metadata": {},
   "outputs": [],
   "source": [
    "import pandas as pd\n",
    "import numpy as np\n",
    "import csv"
   ]
  },
  {
   "cell_type": "code",
   "execution_count": 16,
   "id": "individual-badge",
   "metadata": {},
   "outputs": [],
   "source": [
    "buga_header = ['관리번호', '행정동코드', '행정동명', '우편번호', '우편번호일련번호', '다량배달처명', '건축물대장 건물명', '시군구건물명', '공동주택여부', '변경사유코드']"
   ]
  },
  {
   "cell_type": "code",
   "execution_count": 57,
   "id": "seasonal-extra",
   "metadata": {
    "scrolled": true
   },
   "outputs": [
    {
     "name": "stderr",
     "output_type": "stream",
     "text": [
      "C:\\Users\\dmjang\\AppData\\Roaming\\Python\\Python38\\site-packages\\IPython\\core\\interactiveshell.py:3062: DtypeWarning: Columns (6) have mixed types.Specify dtype option on import or set low_memory=False.\n",
      "  has_raised = await self.run_ast_nodes(code_ast.body, cell_name,\n"
     ]
    },
    {
     "data": {
      "text/html": [
       "<div>\n",
       "<style scoped>\n",
       "    .dataframe tbody tr th:only-of-type {\n",
       "        vertical-align: middle;\n",
       "    }\n",
       "\n",
       "    .dataframe tbody tr th {\n",
       "        vertical-align: top;\n",
       "    }\n",
       "\n",
       "    .dataframe thead th {\n",
       "        text-align: right;\n",
       "    }\n",
       "</style>\n",
       "<table border=\"1\" class=\"dataframe\">\n",
       "  <thead>\n",
       "    <tr style=\"text-align: right;\">\n",
       "      <th></th>\n",
       "      <th>관리번호</th>\n",
       "      <th>행정동코드</th>\n",
       "      <th>행정동명</th>\n",
       "      <th>우편번호</th>\n",
       "      <th>우편번호일련번호</th>\n",
       "      <th>다량배달처명</th>\n",
       "      <th>건축물대장 건물명</th>\n",
       "      <th>시군구건물명</th>\n",
       "      <th>공동주택여부</th>\n",
       "      <th>변경사유코드</th>\n",
       "    </tr>\n",
       "  </thead>\n",
       "  <tbody>\n",
       "    <tr>\n",
       "      <th>0</th>\n",
       "      <td>4111112900100160000045813</td>\n",
       "      <td>4.111156e+09</td>\n",
       "      <td>파장동</td>\n",
       "      <td>16201</td>\n",
       "      <td>NaN</td>\n",
       "      <td>NaN</td>\n",
       "      <td>NaN</td>\n",
       "      <td>NaN</td>\n",
       "      <td>0</td>\n",
       "      <td>NaN</td>\n",
       "    </tr>\n",
       "    <tr>\n",
       "      <th>1</th>\n",
       "      <td>4111112900100190004049521</td>\n",
       "      <td>4.111156e+09</td>\n",
       "      <td>파장동</td>\n",
       "      <td>16201</td>\n",
       "      <td>NaN</td>\n",
       "      <td>NaN</td>\n",
       "      <td>NaN</td>\n",
       "      <td>NaN</td>\n",
       "      <td>0</td>\n",
       "      <td>NaN</td>\n",
       "    </tr>\n",
       "    <tr>\n",
       "      <th>2</th>\n",
       "      <td>4111112900100190018000001</td>\n",
       "      <td>4.111156e+09</td>\n",
       "      <td>파장동</td>\n",
       "      <td>16201</td>\n",
       "      <td>NaN</td>\n",
       "      <td>NaN</td>\n",
       "      <td>NaN</td>\n",
       "      <td>NaN</td>\n",
       "      <td>0</td>\n",
       "      <td>NaN</td>\n",
       "    </tr>\n",
       "    <tr>\n",
       "      <th>3</th>\n",
       "      <td>4111112900100200000049709</td>\n",
       "      <td>4.111156e+09</td>\n",
       "      <td>파장동</td>\n",
       "      <td>16201</td>\n",
       "      <td>NaN</td>\n",
       "      <td>NaN</td>\n",
       "      <td>NaN</td>\n",
       "      <td>NaN</td>\n",
       "      <td>0</td>\n",
       "      <td>NaN</td>\n",
       "    </tr>\n",
       "    <tr>\n",
       "      <th>4</th>\n",
       "      <td>4111112900100210005049708</td>\n",
       "      <td>4.111156e+09</td>\n",
       "      <td>파장동</td>\n",
       "      <td>16201</td>\n",
       "      <td>NaN</td>\n",
       "      <td>NaN</td>\n",
       "      <td>NaN</td>\n",
       "      <td>솔가</td>\n",
       "      <td>0</td>\n",
       "      <td>NaN</td>\n",
       "    </tr>\n",
       "  </tbody>\n",
       "</table>\n",
       "</div>"
      ],
      "text/plain": [
       "                        관리번호         행정동코드 행정동명   우편번호  우편번호일련번호  다량배달처명  \\\n",
       "0  4111112900100160000045813  4.111156e+09  파장동  16201       NaN     NaN   \n",
       "1  4111112900100190004049521  4.111156e+09  파장동  16201       NaN     NaN   \n",
       "2  4111112900100190018000001  4.111156e+09  파장동  16201       NaN     NaN   \n",
       "3  4111112900100200000049709  4.111156e+09  파장동  16201       NaN     NaN   \n",
       "4  4111112900100210005049708  4.111156e+09  파장동  16201       NaN     NaN   \n",
       "\n",
       "  건축물대장 건물명 시군구건물명  공동주택여부  변경사유코드  \n",
       "0       NaN    NaN       0     NaN  \n",
       "1       NaN    NaN       0     NaN  \n",
       "2       NaN    NaN       0     NaN  \n",
       "3       NaN    NaN       0     NaN  \n",
       "4       NaN     솔가       0     NaN  "
      ]
     },
     "execution_count": 57,
     "metadata": {},
     "output_type": "execute_result"
    }
   ],
   "source": [
    "if 'df_gyunggi' in locals():\n",
    "    del df_gyunggi\n",
    "df_gyunggi = pd.read_csv('data/부가정보_경기도.txt', header=None, names=buga_header, encoding='utf8', delimiter = '|', error_bad_lines=False)\n"
   ]
  },
  {
   "cell_type": "code",
   "execution_count": 66,
   "id": "swiss-strength",
   "metadata": {},
   "outputs": [
    {
     "name": "stderr",
     "output_type": "stream",
     "text": [
      "C:\\Users\\dmjang\\AppData\\Roaming\\Python\\Python38\\site-packages\\IPython\\core\\interactiveshell.py:3062: DtypeWarning: Columns (6) have mixed types.Specify dtype option on import or set low_memory=False.\n",
      "  has_raised = await self.run_ast_nodes(code_ast.body, cell_name,\n"
     ]
    }
   ],
   "source": [
    "if 'df_gangwon' in locals():\n",
    "    del df_gangwon\n",
    "if 'df_gyunggi' in locals():\n",
    "    del df_gyunggi\n",
    "if 'df_gyungsangnam' in locals():\n",
    "    del df_gyungsangnam\n",
    "if 'df_gyungsangbook' in locals():\n",
    "    del df_gyungsangbook\n",
    "if 'df_gwangzoo' in locals():\n",
    "    del df_gwangzoo\n",
    "if 'df_daegu' in locals():\n",
    "    del df_daegu\n",
    "if 'df_daegeon' in locals():\n",
    "    del df_daegeon\n",
    "if 'df_busan' in locals():\n",
    "    del df_busan\n",
    "if 'df_seoul' in locals():\n",
    "    del df_seoul\n",
    "if 'df_sejong' in locals():\n",
    "    del df_sejong\n",
    "if 'df_ulsan' in locals():\n",
    "    del df_ulsan\n",
    "if 'df_incheon' in locals():\n",
    "    del df_incheon\n",
    "if 'df_junranam' in locals():\n",
    "    del df_junranam\n",
    "if 'df_junrabook' in locals():\n",
    "    del df_junrabook\n",
    "if 'df_jeju' in locals():\n",
    "    del df_jeju\n",
    "if 'df_chungnam' in locals():\n",
    "    del df_chungnam\n",
    "if 'df_chungbook' in locals():\n",
    "    del df_chungbook    \n",
    "df_gangwon = pd.read_csv('data/부가정보_강원도.txt', header=None, names=buga_header, encoding='utf8', delimiter = '|', error_bad_lines=False)\n",
    "df_gyunggi = pd.read_csv('data/부가정보_경기도.txt', header=None, names=buga_header, encoding='utf8', delimiter = '|', error_bad_lines=False)\n",
    "df_gyungsangnam = pd.read_csv('data/부가정보_경상남도.txt', header=None, names=buga_header, encoding='utf8', delimiter = '|', error_bad_lines=False)\n",
    "df_gyungsangbook = pd.read_csv('data/부가정보_경상북도.txt', header=None, names=buga_header, encoding='utf8', delimiter = '|', error_bad_lines=False)\n",
    "df_gwangzoo = pd.read_csv('data/부가정보_광주광역시.txt', header=None, names=buga_header, encoding='utf8', delimiter = '|', error_bad_lines=False)\n",
    "df_daegu = pd.read_csv('data/부가정보_대구광역시.txt', header=None, names=buga_header, encoding='utf8', delimiter = '|', error_bad_lines=False)\n",
    "df_daegeon = pd.read_csv('data/부가정보_대전광역시.txt', header=None, names=buga_header, encoding='utf8', delimiter = '|', error_bad_lines=False)\n",
    "df_busan = pd.read_csv('data/부가정보_부산광역시.txt', header=None, names=buga_header, encoding='utf8', delimiter = '|', error_bad_lines=False)\n",
    "df_seoul = pd.read_csv('data/부가정보_서울특별시.txt', header=None, names=buga_header, encoding='utf8', delimiter = '|', error_bad_lines=False)\n",
    "df_sejong = pd.read_csv('data/부가정보_세종특별자치시.txt', header=None, names=buga_header, encoding='utf8', delimiter = '|', error_bad_lines=False)\n",
    "df_ulsan = pd.read_csv('data/부가정보_울산광역시.txt', header=None, names=buga_header, encoding='utf8', delimiter = '|', error_bad_lines=False)\n",
    "df_incheon = pd.read_csv('data/부가정보_인천광역시.txt', header=None, names=buga_header, encoding='utf8', delimiter = '|', error_bad_lines=False)\n",
    "df_junranam = pd.read_csv('data/부가정보_전라남도.txt', header=None, names=buga_header, encoding='utf8', delimiter = '|', error_bad_lines=False)\n",
    "df_junrabook = pd.read_csv('data/부가정보_전라북도.txt', header=None, names=buga_header, encoding='utf8', delimiter = '|', error_bad_lines=False)\n",
    "df_jeju = pd.read_csv('data/부가정보_제주특별자치도.txt', header=None, names=buga_header, encoding='utf8', delimiter = '|', error_bad_lines=False)\n",
    "df_chungnam = pd.read_csv('data/부가정보_충청남도.txt', header=None, names=buga_header, encoding='utf8', delimiter = '|', error_bad_lines=False)\n",
    "df_chungbook = pd.read_csv('data/부가정보_충청북도.txt', header=None, names=buga_header, encoding='utf8', delimiter = '|', error_bad_lines=False)"
   ]
  },
  {
   "cell_type": "code",
   "execution_count": 76,
   "id": "limited-indication",
   "metadata": {
    "scrolled": true
   },
   "outputs": [],
   "source": [
    "if 'df_all' in locals():\n",
    "    del df_all\n",
    "df_all = df_gangwon[['관리번호', '행정동코드', '행정동명']]\n",
    "df_all = df_all.append(df_gyunggi[['관리번호', '행정동코드', '행정동명']], ignore_index=True)\n",
    "df_all = df_all.append(df_gyungsangnam[['관리번호', '행정동코드', '행정동명']], ignore_index=True)\n",
    "df_all = df_all.append(df_gyungsangbook[['관리번호', '행정동코드', '행정동명']], ignore_index=True)\n",
    "df_all = df_all.append(df_gwangzoo[['관리번호', '행정동코드', '행정동명']], ignore_index=True)\n",
    "df_all = df_all.append(df_daegu[['관리번호', '행정동코드', '행정동명']], ignore_index=True)\n",
    "df_all = df_all.append(df_daegeon[['관리번호', '행정동코드', '행정동명']], ignore_index=True)\n",
    "df_all = df_all.append(df_busan[['관리번호', '행정동코드', '행정동명']], ignore_index=True)\n",
    "df_all = df_all.append(df_seoul[['관리번호', '행정동코드', '행정동명']], ignore_index=True)\n",
    "df_all = df_all.append(df_sejong[['관리번호', '행정동코드', '행정동명']], ignore_index=True)\n",
    "df_all = df_all.append(df_ulsan[['관리번호', '행정동코드', '행정동명']], ignore_index=True)\n",
    "df_all = df_all.append(df_incheon[['관리번호', '행정동코드', '행정동명']], ignore_index=True)\n",
    "df_all = df_all.append(df_junranam[['관리번호', '행정동코드', '행정동명']], ignore_index=True)\n",
    "df_all = df_all.append(df_junrabook[['관리번호', '행정동코드', '행정동명']], ignore_index=True)\n",
    "df_all = df_all.append(df_jeju[['관리번호', '행정동코드', '행정동명']], ignore_index=True)\n",
    "df_all = df_all.append(df_chungnam[['관리번호', '행정동코드', '행정동명']], ignore_index=True)\n",
    "df_all = df_all.append(df_chungbook[['관리번호', '행정동코드', '행정동명']], ignore_index=True)"
   ]
  },
  {
   "cell_type": "code",
   "execution_count": 77,
   "id": "french-seafood",
   "metadata": {},
   "outputs": [],
   "source": [
    "df_all.to_csv('data/부가정보_전체.csv')"
   ]
  },
  {
   "cell_type": "code",
   "execution_count": 100,
   "id": "unsigned-cornell",
   "metadata": {},
   "outputs": [
    {
     "data": {
      "text/html": [
       "<div>\n",
       "<style scoped>\n",
       "    .dataframe tbody tr th:only-of-type {\n",
       "        vertical-align: middle;\n",
       "    }\n",
       "\n",
       "    .dataframe tbody tr th {\n",
       "        vertical-align: top;\n",
       "    }\n",
       "\n",
       "    .dataframe thead th {\n",
       "        text-align: right;\n",
       "    }\n",
       "</style>\n",
       "<table border=\"1\" class=\"dataframe\">\n",
       "  <thead>\n",
       "    <tr style=\"text-align: right;\">\n",
       "      <th></th>\n",
       "      <th>행정동코드</th>\n",
       "      <th>행정동명</th>\n",
       "    </tr>\n",
       "  </thead>\n",
       "  <tbody>\n",
       "    <tr>\n",
       "      <th>0</th>\n",
       "      <td>4.211058e+09</td>\n",
       "      <td>소양동</td>\n",
       "    </tr>\n",
       "    <tr>\n",
       "      <th>1</th>\n",
       "      <td>4.211054e+09</td>\n",
       "      <td>약사명동</td>\n",
       "    </tr>\n",
       "    <tr>\n",
       "      <th>2</th>\n",
       "      <td>4.211053e+09</td>\n",
       "      <td>조운동</td>\n",
       "    </tr>\n",
       "    <tr>\n",
       "      <th>3</th>\n",
       "      <td>4.211064e+09</td>\n",
       "      <td>효자3동</td>\n",
       "    </tr>\n",
       "    <tr>\n",
       "      <th>4</th>\n",
       "      <td>4.211061e+09</td>\n",
       "      <td>후평2동</td>\n",
       "    </tr>\n",
       "    <tr>\n",
       "      <th>...</th>\n",
       "      <td>...</td>\n",
       "      <td>...</td>\n",
       "    </tr>\n",
       "    <tr>\n",
       "      <th>3549</th>\n",
       "      <td>4.380031e+09</td>\n",
       "      <td>대강면</td>\n",
       "    </tr>\n",
       "    <tr>\n",
       "      <th>3550</th>\n",
       "      <td>4.380032e+09</td>\n",
       "      <td>가곡면</td>\n",
       "    </tr>\n",
       "    <tr>\n",
       "      <th>3551</th>\n",
       "      <td>4.380033e+09</td>\n",
       "      <td>영춘면</td>\n",
       "    </tr>\n",
       "    <tr>\n",
       "      <th>3552</th>\n",
       "      <td>4.380034e+09</td>\n",
       "      <td>어상천면</td>\n",
       "    </tr>\n",
       "    <tr>\n",
       "      <th>3553</th>\n",
       "      <td>4.380036e+09</td>\n",
       "      <td>단성면</td>\n",
       "    </tr>\n",
       "  </tbody>\n",
       "</table>\n",
       "<p>3554 rows × 2 columns</p>\n",
       "</div>"
      ],
      "text/plain": [
       "             행정동코드  행정동명\n",
       "0     4.211058e+09   소양동\n",
       "1     4.211054e+09  약사명동\n",
       "2     4.211053e+09   조운동\n",
       "3     4.211064e+09  효자3동\n",
       "4     4.211061e+09  후평2동\n",
       "...            ...   ...\n",
       "3549  4.380031e+09   대강면\n",
       "3550  4.380032e+09   가곡면\n",
       "3551  4.380033e+09   영춘면\n",
       "3552  4.380034e+09  어상천면\n",
       "3553  4.380036e+09   단성면\n",
       "\n",
       "[3554 rows x 2 columns]"
      ]
     },
     "execution_count": 100,
     "metadata": {},
     "output_type": "execute_result"
    }
   ],
   "source": [
    "df_heng = df_all[['행정동코드', '행정동명']]\n",
    "df_droped_heng = df_heng.drop_duplicates().dropna().reset_index()[['행정동코드', '행정동명']]\n",
    "df_droped_heng"
   ]
  },
  {
   "cell_type": "code",
   "execution_count": 99,
   "id": "roman-underground",
   "metadata": {},
   "outputs": [
    {
     "data": {
      "text/html": [
       "<div>\n",
       "<style scoped>\n",
       "    .dataframe tbody tr th:only-of-type {\n",
       "        vertical-align: middle;\n",
       "    }\n",
       "\n",
       "    .dataframe tbody tr th {\n",
       "        vertical-align: top;\n",
       "    }\n",
       "\n",
       "    .dataframe thead th {\n",
       "        text-align: right;\n",
       "    }\n",
       "</style>\n",
       "<table border=\"1\" class=\"dataframe\">\n",
       "  <thead>\n",
       "    <tr style=\"text-align: right;\">\n",
       "      <th></th>\n",
       "      <th>행정동코드</th>\n",
       "      <th>행정동명</th>\n",
       "    </tr>\n",
       "  </thead>\n",
       "  <tbody>\n",
       "  </tbody>\n",
       "</table>\n",
       "</div>"
      ],
      "text/plain": [
       "Empty DataFrame\n",
       "Columns: [행정동코드, 행정동명]\n",
       "Index: []"
      ]
     },
     "execution_count": 99,
     "metadata": {},
     "output_type": "execute_result"
    }
   ],
   "source": []
  },
  {
   "cell_type": "code",
   "execution_count": null,
   "id": "sufficient-value",
   "metadata": {},
   "outputs": [],
   "source": []
  },
  {
   "cell_type": "code",
   "execution_count": null,
   "id": "minus-license",
   "metadata": {},
   "outputs": [],
   "source": []
  },
  {
   "cell_type": "code",
   "execution_count": null,
   "id": "compressed-barrel",
   "metadata": {},
   "outputs": [],
   "source": []
  },
  {
   "cell_type": "code",
   "execution_count": null,
   "id": "collective-event",
   "metadata": {},
   "outputs": [],
   "source": []
  },
  {
   "cell_type": "code",
   "execution_count": null,
   "id": "future-civilian",
   "metadata": {},
   "outputs": [],
   "source": []
  },
  {
   "cell_type": "code",
   "execution_count": null,
   "id": "modern-combat",
   "metadata": {},
   "outputs": [],
   "source": []
  },
  {
   "cell_type": "code",
   "execution_count": null,
   "id": "cathedral-jungle",
   "metadata": {},
   "outputs": [],
   "source": []
  },
  {
   "cell_type": "code",
   "execution_count": null,
   "id": "available-steel",
   "metadata": {},
   "outputs": [],
   "source": []
  },
  {
   "cell_type": "code",
   "execution_count": null,
   "id": "employed-giving",
   "metadata": {},
   "outputs": [],
   "source": []
  },
  {
   "cell_type": "code",
   "execution_count": null,
   "id": "virgin-community",
   "metadata": {},
   "outputs": [],
   "source": []
  },
  {
   "cell_type": "code",
   "execution_count": null,
   "id": "exact-commander",
   "metadata": {},
   "outputs": [],
   "source": []
  },
  {
   "cell_type": "code",
   "execution_count": null,
   "id": "previous-adventure",
   "metadata": {},
   "outputs": [],
   "source": []
  },
  {
   "cell_type": "code",
   "execution_count": null,
   "id": "authorized-penguin",
   "metadata": {},
   "outputs": [],
   "source": []
  },
  {
   "cell_type": "code",
   "execution_count": null,
   "id": "precise-updating",
   "metadata": {},
   "outputs": [],
   "source": []
  },
  {
   "cell_type": "code",
   "execution_count": null,
   "id": "painted-fundamentals",
   "metadata": {},
   "outputs": [],
   "source": []
  },
  {
   "cell_type": "code",
   "execution_count": null,
   "id": "exact-morrison",
   "metadata": {},
   "outputs": [],
   "source": []
  },
  {
   "cell_type": "code",
   "execution_count": null,
   "id": "detected-arcade",
   "metadata": {},
   "outputs": [],
   "source": []
  },
  {
   "cell_type": "code",
   "execution_count": null,
   "id": "constitutional-location",
   "metadata": {},
   "outputs": [],
   "source": []
  },
  {
   "cell_type": "code",
   "execution_count": null,
   "id": "official-flash",
   "metadata": {},
   "outputs": [],
   "source": []
  },
  {
   "cell_type": "code",
   "execution_count": null,
   "id": "excited-gates",
   "metadata": {},
   "outputs": [],
   "source": []
  },
  {
   "cell_type": "code",
   "execution_count": null,
   "id": "effective-elevation",
   "metadata": {},
   "outputs": [],
   "source": []
  },
  {
   "cell_type": "code",
   "execution_count": null,
   "id": "removed-calculation",
   "metadata": {},
   "outputs": [],
   "source": []
  },
  {
   "cell_type": "code",
   "execution_count": null,
   "id": "technological-giving",
   "metadata": {},
   "outputs": [],
   "source": []
  },
  {
   "cell_type": "code",
   "execution_count": null,
   "id": "coordinated-procurement",
   "metadata": {},
   "outputs": [],
   "source": []
  },
  {
   "cell_type": "code",
   "execution_count": null,
   "id": "difficult-basin",
   "metadata": {},
   "outputs": [],
   "source": []
  },
  {
   "cell_type": "code",
   "execution_count": null,
   "id": "broken-liabilities",
   "metadata": {},
   "outputs": [],
   "source": []
  },
  {
   "cell_type": "code",
   "execution_count": null,
   "id": "following-proxy",
   "metadata": {},
   "outputs": [],
   "source": []
  },
  {
   "cell_type": "code",
   "execution_count": null,
   "id": "backed-pound",
   "metadata": {},
   "outputs": [],
   "source": []
  },
  {
   "cell_type": "code",
   "execution_count": null,
   "id": "sharp-hughes",
   "metadata": {},
   "outputs": [],
   "source": []
  },
  {
   "cell_type": "code",
   "execution_count": null,
   "id": "mighty-satisfaction",
   "metadata": {},
   "outputs": [],
   "source": []
  },
  {
   "cell_type": "code",
   "execution_count": null,
   "id": "stable-tourism",
   "metadata": {},
   "outputs": [],
   "source": []
  },
  {
   "cell_type": "code",
   "execution_count": null,
   "id": "adjustable-showcase",
   "metadata": {},
   "outputs": [],
   "source": []
  },
  {
   "cell_type": "code",
   "execution_count": null,
   "id": "angry-mistress",
   "metadata": {},
   "outputs": [],
   "source": []
  },
  {
   "cell_type": "code",
   "execution_count": null,
   "id": "mysterious-manufacturer",
   "metadata": {},
   "outputs": [],
   "source": []
  },
  {
   "cell_type": "code",
   "execution_count": null,
   "id": "appreciated-baking",
   "metadata": {},
   "outputs": [],
   "source": []
  },
  {
   "cell_type": "code",
   "execution_count": null,
   "id": "automatic-degree",
   "metadata": {},
   "outputs": [],
   "source": []
  },
  {
   "cell_type": "code",
   "execution_count": null,
   "id": "third-viking",
   "metadata": {},
   "outputs": [],
   "source": []
  },
  {
   "cell_type": "code",
   "execution_count": null,
   "id": "recorded-penetration",
   "metadata": {},
   "outputs": [],
   "source": []
  },
  {
   "cell_type": "code",
   "execution_count": null,
   "id": "pursuant-cabin",
   "metadata": {},
   "outputs": [],
   "source": []
  },
  {
   "cell_type": "code",
   "execution_count": null,
   "id": "monetary-somewhere",
   "metadata": {},
   "outputs": [],
   "source": []
  },
  {
   "cell_type": "code",
   "execution_count": null,
   "id": "eligible-freight",
   "metadata": {},
   "outputs": [],
   "source": []
  },
  {
   "cell_type": "code",
   "execution_count": null,
   "id": "million-bridges",
   "metadata": {},
   "outputs": [],
   "source": []
  },
  {
   "cell_type": "code",
   "execution_count": null,
   "id": "infinite-pointer",
   "metadata": {},
   "outputs": [],
   "source": []
  },
  {
   "cell_type": "code",
   "execution_count": null,
   "id": "purple-terminology",
   "metadata": {},
   "outputs": [],
   "source": []
  },
  {
   "cell_type": "code",
   "execution_count": null,
   "id": "aboriginal-korea",
   "metadata": {},
   "outputs": [],
   "source": []
  },
  {
   "cell_type": "code",
   "execution_count": 9,
   "id": "respective-warning",
   "metadata": {},
   "outputs": [
    {
     "data": {
      "text/html": [
       "<div>\n",
       "<style scoped>\n",
       "    .dataframe tbody tr th:only-of-type {\n",
       "        vertical-align: middle;\n",
       "    }\n",
       "\n",
       "    .dataframe tbody tr th {\n",
       "        vertical-align: top;\n",
       "    }\n",
       "\n",
       "    .dataframe thead th {\n",
       "        text-align: right;\n",
       "    }\n",
       "</style>\n",
       "<table border=\"1\" class=\"dataframe\">\n",
       "  <thead>\n",
       "    <tr style=\"text-align: right;\">\n",
       "      <th></th>\n",
       "      <th>5011003202000020005046710</th>\n",
       "      <th>5011032000</th>\n",
       "      <th>추자면</th>\n",
       "      <th>63000</th>\n",
       "      <th>Unnamed: 4</th>\n",
       "      <th>Unnamed: 5</th>\n",
       "      <th>Unnamed: 6</th>\n",
       "      <th>Unnamed: 7</th>\n",
       "      <th>0</th>\n",
       "    </tr>\n",
       "  </thead>\n",
       "  <tbody>\n",
       "    <tr>\n",
       "      <th>0</th>\n",
       "      <td>5011003202000020009046701</td>\n",
       "      <td>5.011032e+09</td>\n",
       "      <td>추자면</td>\n",
       "      <td>63000</td>\n",
       "      <td>NaN</td>\n",
       "      <td>NaN</td>\n",
       "      <td>NaN</td>\n",
       "      <td>NaN</td>\n",
       "      <td>0</td>\n",
       "    </tr>\n",
       "    <tr>\n",
       "      <th>1</th>\n",
       "      <td>5011003202000100001046699</td>\n",
       "      <td>5.011032e+09</td>\n",
       "      <td>추자면</td>\n",
       "      <td>63000</td>\n",
       "      <td>NaN</td>\n",
       "      <td>NaN</td>\n",
       "      <td>NaN</td>\n",
       "      <td>NaN</td>\n",
       "      <td>0</td>\n",
       "    </tr>\n",
       "    <tr>\n",
       "      <th>2</th>\n",
       "      <td>5011003202000100001046704</td>\n",
       "      <td>5.011032e+09</td>\n",
       "      <td>추자면</td>\n",
       "      <td>63000</td>\n",
       "      <td>NaN</td>\n",
       "      <td>NaN</td>\n",
       "      <td>NaN</td>\n",
       "      <td>NaN</td>\n",
       "      <td>0</td>\n",
       "    </tr>\n",
       "    <tr>\n",
       "      <th>3</th>\n",
       "      <td>5011003202000100009046732</td>\n",
       "      <td>5.011032e+09</td>\n",
       "      <td>추자면</td>\n",
       "      <td>63000</td>\n",
       "      <td>NaN</td>\n",
       "      <td>NaN</td>\n",
       "      <td>NaN</td>\n",
       "      <td>NaN</td>\n",
       "      <td>0</td>\n",
       "    </tr>\n",
       "    <tr>\n",
       "      <th>4</th>\n",
       "      <td>5011003202000100010046702</td>\n",
       "      <td>5.011032e+09</td>\n",
       "      <td>추자면</td>\n",
       "      <td>63000</td>\n",
       "      <td>NaN</td>\n",
       "      <td>NaN</td>\n",
       "      <td>NaN</td>\n",
       "      <td>NaN</td>\n",
       "      <td>0</td>\n",
       "    </tr>\n",
       "  </tbody>\n",
       "</table>\n",
       "</div>"
      ],
      "text/plain": [
       "   5011003202000020005046710    5011032000  추자면  63000  Unnamed: 4  \\\n",
       "0  5011003202000020009046701  5.011032e+09  추자면  63000         NaN   \n",
       "1  5011003202000100001046699  5.011032e+09  추자면  63000         NaN   \n",
       "2  5011003202000100001046704  5.011032e+09  추자면  63000         NaN   \n",
       "3  5011003202000100009046732  5.011032e+09  추자면  63000         NaN   \n",
       "4  5011003202000100010046702  5.011032e+09  추자면  63000         NaN   \n",
       "\n",
       "   Unnamed: 5 Unnamed: 6 Unnamed: 7  0  \n",
       "0         NaN        NaN        NaN  0  \n",
       "1         NaN        NaN        NaN  0  \n",
       "2         NaN        NaN        NaN  0  \n",
       "3         NaN        NaN        NaN  0  \n",
       "4         NaN        NaN        NaN  0  "
      ]
     },
     "execution_count": 9,
     "metadata": {},
     "output_type": "execute_result"
    }
   ],
   "source": [
    "df_gyunggi.head()"
   ]
  },
  {
   "cell_type": "code",
   "execution_count": null,
   "id": "reflected-mapping",
   "metadata": {},
   "outputs": [],
   "source": []
  },
  {
   "cell_type": "code",
   "execution_count": null,
   "id": "dynamic-raleigh",
   "metadata": {},
   "outputs": [],
   "source": []
  },
  {
   "cell_type": "code",
   "execution_count": null,
   "id": "silent-background",
   "metadata": {},
   "outputs": [],
   "source": []
  },
  {
   "cell_type": "code",
   "execution_count": null,
   "id": "major-implementation",
   "metadata": {},
   "outputs": [],
   "source": []
  },
  {
   "cell_type": "code",
   "execution_count": null,
   "id": "modern-basin",
   "metadata": {},
   "outputs": [],
   "source": []
  },
  {
   "cell_type": "code",
   "execution_count": null,
   "id": "guilty-works",
   "metadata": {},
   "outputs": [],
   "source": []
  },
  {
   "cell_type": "code",
   "execution_count": null,
   "id": "banner-enhancement",
   "metadata": {},
   "outputs": [],
   "source": []
  },
  {
   "cell_type": "code",
   "execution_count": null,
   "id": "federal-board",
   "metadata": {},
   "outputs": [],
   "source": []
  }
 ],
 "metadata": {
  "kernelspec": {
   "display_name": "Python 3.8.2 64-bit",
   "language": "python",
   "name": "python38264bitc4e6e9cffc674f869a51c2a05d7b112b"
  },
  "language_info": {
   "codemirror_mode": {
    "name": "ipython",
    "version": 3
   },
   "file_extension": ".py",
   "mimetype": "text/x-python",
   "name": "python",
   "nbconvert_exporter": "python",
   "pygments_lexer": "ipython3",
   "version": "3.8.2"
  }
 },
 "nbformat": 4,
 "nbformat_minor": 5
}
