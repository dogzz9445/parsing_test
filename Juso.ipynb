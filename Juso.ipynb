{
 "cells": [
  {
   "cell_type": "code",
   "execution_count": 6,
   "id": "stock-island",
   "metadata": {},
   "outputs": [],
   "source": [
    "import pandas as pd\n",
    "import sqlalchemy"
   ]
  },
  {
   "cell_type": "code",
   "execution_count": null,
   "id": "arbitrary-final",
   "metadata": {},
   "outputs": [],
   "source": [
    "from sqlalchemy import create_engine\n",
    "sqlEngine       = create_engine()\n",
    "dbConnection    = sqlEngine.connect()"
   ]
  },
  {
   "cell_type": "code",
   "execution_count": 7,
   "id": "french-coach",
   "metadata": {},
   "outputs": [],
   "source": [
    "doro_header = ['도로명코드', '도로명', '도로명로마자', '읍면동일련번호', '시도명', '시도 로마자', '시군구명', '시군구 로마자', '읍면동명', '읍면동 로마자', '읍면동구분', '읍면동코드', '사용여부', '변경사유', '변경이력정보', '고시일자', '말소일자']"
   ]
  },
  {
   "cell_type": "code",
   "execution_count": 8,
   "id": "blessed-sessions",
   "metadata": {},
   "outputs": [],
   "source": [
    "if 'df_doro' in locals():\n",
    "    del df_doro\n",
    "df_doro = pd.read_csv('data/개선_도로명코드_전체분.txt', header=None, names=doro_header, encoding='utf8', delimiter = '|', error_bad_lines=False)\n",
    "df_doro['읍면동코드'] = df_doro['읍면동코드'].astype('Int32')"
   ]
  },
  {
   "cell_type": "code",
   "execution_count": 11,
   "id": "light-screen",
   "metadata": {},
   "outputs": [],
   "source": [
    "df_doro.to_sql(name='doro', con=sqlEngine, if_exists='append')"
   ]
  },
  {
   "cell_type": "code",
   "execution_count": 12,
   "id": "loving-estonia",
   "metadata": {},
   "outputs": [],
   "source": [
    "juso_header = ['관리번호', '도로명코드', '읍면동일련번호', '지하여부', '건물본번', '건물부번', '기초구역번호', '변경사유코드', '고시일자', '변경전도로명주소', '상세주소부여 여부']"
   ]
  },
  {
   "cell_type": "code",
   "execution_count": 15,
   "id": "understanding-source",
   "metadata": {},
   "outputs": [],
   "source": [
    "if 'df_juso' in locals():\n",
    "    del df_juso\n",
    "df_juso = pd.read_csv('data/주소_강원도.txt', header=None, names=doro_header, encoding='utf8', delimiter = '|', error_bad_lines=False)\n",
    "df_juso = df_juso.append(pd.read_csv('data/주소_경기도.txt', header=None, names=doro_header, encoding='utf8', delimiter = '|', error_bad_lines=False), ignore_index=True)\n",
    "df_juso = df_juso.append(pd.read_csv('data/주소_경상남도.txt', header=None, names=doro_header, encoding='utf8', delimiter = '|', error_bad_lines=False), ignore_index=True)\n",
    "df_juso = df_juso.append(pd.read_csv('data/주소_경상북도.txt', header=None, names=doro_header, encoding='utf8', delimiter = '|', error_bad_lines=False), ignore_index=True)\n",
    "df_juso = df_juso.append(pd.read_csv('data/주소_광주광역시.txt', header=None, names=doro_header, encoding='utf8', delimiter = '|', error_bad_lines=False), ignore_index=True)\n",
    "df_juso = df_juso.append(pd.read_csv('data/주소_대구광역시.txt', header=None, names=doro_header, encoding='utf8', delimiter = '|', error_bad_lines=False), ignore_index=True)\n",
    "df_juso = df_juso.append(pd.read_csv('data/주소_대전광역시.txt', header=None, names=doro_header, encoding='utf8', delimiter = '|', error_bad_lines=False), ignore_index=True)\n",
    "df_juso = df_juso.append(pd.read_csv('data/주소_부산광역시.txt', header=None, names=doro_header, encoding='utf8', delimiter = '|', error_bad_lines=False), ignore_index=True)\n",
    "df_juso = df_juso.append(pd.read_csv('data/주소_서울특별시.txt', header=None, names=doro_header, encoding='utf8', delimiter = '|', error_bad_lines=False), ignore_index=True)\n",
    "df_juso = df_juso.append(pd.read_csv('data/주소_세종특별자치시.txt', header=None, names=doro_header, encoding='utf8', delimiter = '|', error_bad_lines=False), ignore_index=True)\n",
    "df_juso = df_juso.append(pd.read_csv('data/주소_울산광역시.txt', header=None, names=doro_header, encoding='utf8', delimiter = '|', error_bad_lines=False), ignore_index=True)\n",
    "df_juso = df_juso.append(pd.read_csv('data/주소_인천광역시.txt', header=None, names=doro_header, encoding='utf8', delimiter = '|', error_bad_lines=False), ignore_index=True)\n",
    "df_juso = df_juso.append(pd.read_csv('data/주소_전라남도.txt', header=None, names=doro_header, encoding='utf8', delimiter = '|', error_bad_lines=False), ignore_index=True)\n",
    "df_juso = df_juso.append(pd.read_csv('data/주소_전라북도.txt', header=None, names=doro_header, encoding='utf8', delimiter = '|', error_bad_lines=False), ignore_index=True)\n",
    "df_juso = df_juso.append(pd.read_csv('data/주소_제주특별자치도.txt', header=None, names=doro_header, encoding='utf8', delimiter = '|', error_bad_lines=False), ignore_index=True)\n",
    "df_juso = df_juso.append(pd.read_csv('data/주소_충청남도.txt', header=None, names=doro_header, encoding='utf8', delimiter = '|', error_bad_lines=False), ignore_index=True)\n",
    "df_juso = df_juso.append(pd.read_csv('data/주소_충청북도.txt', header=None, names=doro_header, encoding='utf8', delimiter = '|', error_bad_lines=False), ignore_index=True)\n"
   ]
  },
  {
   "cell_type": "code",
   "execution_count": null,
   "id": "civil-identity",
   "metadata": {},
   "outputs": [],
   "source": [
    "df_juso.to_sql(name='juso', con=sqlEngine, if_exists='append')"
   ]
  }
 ],
 "metadata": {
  "kernelspec": {
   "display_name": "Python 3",
   "language": "python",
   "name": "python3"
  },
  "language_info": {
   "codemirror_mode": {
    "name": "ipython",
    "version": 3
   },
   "file_extension": ".py",
   "mimetype": "text/x-python",
   "name": "python",
   "nbconvert_exporter": "python",
   "pygments_lexer": "ipython3",
   "version": "3.8.2"
  }
 },
 "nbformat": 4,
 "nbformat_minor": 5
}
